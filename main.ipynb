{
  "nbformat": 4,
  "nbformat_minor": 0,
  "metadata": {
    "colab": {
      "provenance": []
    },
    "kernelspec": {
      "name": "python3",
      "display_name": "Python 3"
    },
    "language_info": {
      "name": "python"
    }
  },
  "cells": [
    {
      "cell_type": "code",
      "execution_count": null,
      "metadata": {
        "id": "Eb5Ez0aOi_p6"
      },
      "outputs": [],
      "source": [
        "import time\n",
        "import math\n",
        "import numpy as np\n",
        "import pandas as pd\n",
        "import scipy as sc\n",
        "from scipy.optimize import minimize\n",
        "from scipy.optimize import Bounds"
      ]
    },
    {
      "cell_type": "markdown",
      "source": [
        "Download dataset"
      ],
      "metadata": {
        "id": "Q1on7YZd3xRF"
      }
    },
    {
      "cell_type": "code",
      "source": [
        "# on Kaggle\n",
        "# kaggle competitions download -c dmia-sport-2019-fall-intro\n",
        "\n",
        "train_df = pd.read_csv('/content/train (1).csv')\n",
        "test_df = pd.read_csv('/content/Xtest.csv')"
      ],
      "metadata": {
        "id": "6C8BT0nUjCKV"
      },
      "execution_count": null,
      "outputs": []
    },
    {
      "cell_type": "markdown",
      "source": [
        "Delete NaN values and refactor to string format"
      ],
      "metadata": {
        "id": "A7bFh6aN3jV6"
      }
    },
    {
      "cell_type": "code",
      "source": [
        "train_df = train_df.replace({np.nan: ''})\n",
        "train_df.Password = train_df.Password.apply(str)\n",
        "train_df.astype({'Password': 'U20'})\n",
        "\n",
        "test_df = test_df.replace({np.nan: ''})\n",
        "test_df.Password = test_df.Password.apply(str)\n",
        "test_df.astype({'Password': 'U20'})"
      ],
      "metadata": {
        "id": "7SCR3AYptIqE"
      },
      "execution_count": null,
      "outputs": []
    },
    {
      "cell_type": "markdown",
      "source": [
        "Realize the new columns for training database"
      ],
      "metadata": {
        "id": "Gq_-Jngl4HXr"
      }
    },
    {
      "cell_type": "code",
      "source": [
        "def many_len_metrics(x):\n",
        "    d = {'Спец.символы': 0, 'Буквы': 0, 'Цифры': 0}\n",
        "    for i in x:\n",
        "        if i.isalpha():\n",
        "            d['Буквы'] += 1\n",
        "        elif i.isdigit():\n",
        "            d['Цифры'] += 1\n",
        "        else:\n",
        "            d['Спец.символы'] += 1\n",
        "\n",
        "    return d['Цифры'], d['Буквы'], d['Спец.символы']\n",
        "\n",
        "def len_password(x: str):\n",
        "    return len(x)\n",
        "\n",
        "def len_unique(x: str):\n",
        "    return len(set(x))\n",
        "\n",
        "def len_specific(x: str):\n",
        "    return many_len_metrics(x)[-1]\n",
        "\n",
        "def len_alfabet(x):\n",
        "    return many_len_metrics(x)[1]\n",
        "\n",
        "def len_digit(x):\n",
        "    return many_len_metrics(x)[0]\n",
        "\n",
        "def attitude_len_for_unique(x):\n",
        "    if len_password(x) != 0:\n",
        "      return len_unique(x) / len_password(x)\n",
        "    return 0\n",
        "\n",
        "def len_big_alfa(x):\n",
        "    return sum(1 for i in x if i.isupper())\n",
        "\n",
        "def len_mini_alfa(x):\n",
        "    return sum(1 for i in x if i.islower())\n",
        "\n",
        "def attitude_mini_for_big(x):\n",
        "    if len_big_alfa(x) != 0:\n",
        "      return len_mini_alfa(x) / len_big_alfa(x)\n",
        "    return 0\n",
        "\n",
        "def Entropy(x):\n",
        "    f1, f2, f3, f4 = 0, 0, 0, 0\n",
        "    for i in x:\n",
        "        if i.isupper():\n",
        "          f1 = 1;\n",
        "        elif i.islower():\n",
        "          f2 = 1\n",
        "        elif i.isdigit():\n",
        "          f3 = 1;\n",
        "        else:\n",
        "          f4 = 1\n",
        "    ans = 1\n",
        "    if f1:\n",
        "      ans+=26\n",
        "    if f2:\n",
        "      ans+=26\n",
        "    if f3:\n",
        "      ans+=10\n",
        "    if f4:\n",
        "      ans+=22\n",
        "    return len(x)*math.log2(ans)"
      ],
      "metadata": {
        "id": "Qkgqd0pqrL1s"
      },
      "execution_count": null,
      "outputs": []
    },
    {
      "cell_type": "markdown",
      "source": [
        "Create columns for each function and add to DataFrame"
      ],
      "metadata": {
        "id": "JH8tUBzV4h6X"
      }
    },
    {
      "cell_type": "code",
      "source": [
        "train_df['len_pass'] = train_df['Password'].apply(len_password)\n",
        "train_df['len_unique'] = train_df['Password'].apply(len_unique)\n",
        "train_df['len_specific'] = train_df['Password'].apply(len_specific)\n",
        "train_df['len_alfabet'] = train_df['Password'].apply(len_alfabet)\n",
        "train_df['len_digit'] = train_df['Password'].apply(len_digit)\n",
        "train_df['attitude_len_for_unique'] = train_df['Password'].apply(attitude_len_for_unique)\n",
        "train_df['len_big_alfa'] = train_df['Password'].apply(len_big_alfa)\n",
        "train_df['len_mini_alfa'] = train_df['Password'].apply(len_mini_alfa)\n",
        "train_df['attitude_mini_for_big'] = train_df['Password'].apply(attitude_mini_for_big)\n",
        "\n",
        "train_df['entropy'] = train_df['Password'].apply(Entropy)"
      ],
      "metadata": {
        "id": "tjCNgvWeyV0M"
      },
      "execution_count": null,
      "outputs": []
    },
    {
      "cell_type": "code",
      "source": [
        "# Create X and y who will split on train and test in future\n",
        "features = list(train_df.iloc[:, 2:11])\n",
        "X = train_df[features]\n",
        "\n",
        "y = train_df['Times']\n",
        "y = y.replace('', '0')\n",
        "y = y.astype('int')"
      ],
      "metadata": {
        "id": "B-JmYhkkAYEM"
      },
      "execution_count": null,
      "outputs": []
    },
    {
      "cell_type": "code",
      "source": [
        "from sklearn.model_selection import train_test_split\n",
        "\n",
        "X_train, X_test, y_train, y_test = train_test_split(\n",
        "    X, y,\n",
        "    train_size=0.8,\n",
        "    random_state=42,\n",
        ")"
      ],
      "metadata": {
        "id": "PWD0dKvC616h"
      },
      "execution_count": null,
      "outputs": []
    },
    {
      "cell_type": "markdown",
      "source": [
        "Initialize model and fit it"
      ],
      "metadata": {
        "id": "m0AQ3JRY5mkd"
      }
    },
    {
      "cell_type": "code",
      "source": [
        "from sklearn.linear_model import LinearRegression"
      ],
      "metadata": {
        "id": "HGG0VODVBCxA"
      },
      "execution_count": null,
      "outputs": []
    },
    {
      "cell_type": "code",
      "source": [
        "model = LinearRegression()\n",
        "model.fit(X_train, y_train)"
      ],
      "metadata": {
        "colab": {
          "base_uri": "https://localhost:8080/",
          "height": 75
        },
        "id": "7wD1kmgUrLzE",
        "outputId": "af4f11ac-f190-430b-ac1c-daa83012398a"
      },
      "execution_count": null,
      "outputs": [
        {
          "output_type": "execute_result",
          "data": {
            "text/plain": [
              "LinearRegression()"
            ],
            "text/html": [
              "<style>#sk-container-id-2 {color: black;background-color: white;}#sk-container-id-2 pre{padding: 0;}#sk-container-id-2 div.sk-toggleable {background-color: white;}#sk-container-id-2 label.sk-toggleable__label {cursor: pointer;display: block;width: 100%;margin-bottom: 0;padding: 0.3em;box-sizing: border-box;text-align: center;}#sk-container-id-2 label.sk-toggleable__label-arrow:before {content: \"▸\";float: left;margin-right: 0.25em;color: #696969;}#sk-container-id-2 label.sk-toggleable__label-arrow:hover:before {color: black;}#sk-container-id-2 div.sk-estimator:hover label.sk-toggleable__label-arrow:before {color: black;}#sk-container-id-2 div.sk-toggleable__content {max-height: 0;max-width: 0;overflow: hidden;text-align: left;background-color: #f0f8ff;}#sk-container-id-2 div.sk-toggleable__content pre {margin: 0.2em;color: black;border-radius: 0.25em;background-color: #f0f8ff;}#sk-container-id-2 input.sk-toggleable__control:checked~div.sk-toggleable__content {max-height: 200px;max-width: 100%;overflow: auto;}#sk-container-id-2 input.sk-toggleable__control:checked~label.sk-toggleable__label-arrow:before {content: \"▾\";}#sk-container-id-2 div.sk-estimator input.sk-toggleable__control:checked~label.sk-toggleable__label {background-color: #d4ebff;}#sk-container-id-2 div.sk-label input.sk-toggleable__control:checked~label.sk-toggleable__label {background-color: #d4ebff;}#sk-container-id-2 input.sk-hidden--visually {border: 0;clip: rect(1px 1px 1px 1px);clip: rect(1px, 1px, 1px, 1px);height: 1px;margin: -1px;overflow: hidden;padding: 0;position: absolute;width: 1px;}#sk-container-id-2 div.sk-estimator {font-family: monospace;background-color: #f0f8ff;border: 1px dotted black;border-radius: 0.25em;box-sizing: border-box;margin-bottom: 0.5em;}#sk-container-id-2 div.sk-estimator:hover {background-color: #d4ebff;}#sk-container-id-2 div.sk-parallel-item::after {content: \"\";width: 100%;border-bottom: 1px solid gray;flex-grow: 1;}#sk-container-id-2 div.sk-label:hover label.sk-toggleable__label {background-color: #d4ebff;}#sk-container-id-2 div.sk-serial::before {content: \"\";position: absolute;border-left: 1px solid gray;box-sizing: border-box;top: 0;bottom: 0;left: 50%;z-index: 0;}#sk-container-id-2 div.sk-serial {display: flex;flex-direction: column;align-items: center;background-color: white;padding-right: 0.2em;padding-left: 0.2em;position: relative;}#sk-container-id-2 div.sk-item {position: relative;z-index: 1;}#sk-container-id-2 div.sk-parallel {display: flex;align-items: stretch;justify-content: center;background-color: white;position: relative;}#sk-container-id-2 div.sk-item::before, #sk-container-id-2 div.sk-parallel-item::before {content: \"\";position: absolute;border-left: 1px solid gray;box-sizing: border-box;top: 0;bottom: 0;left: 50%;z-index: -1;}#sk-container-id-2 div.sk-parallel-item {display: flex;flex-direction: column;z-index: 1;position: relative;background-color: white;}#sk-container-id-2 div.sk-parallel-item:first-child::after {align-self: flex-end;width: 50%;}#sk-container-id-2 div.sk-parallel-item:last-child::after {align-self: flex-start;width: 50%;}#sk-container-id-2 div.sk-parallel-item:only-child::after {width: 0;}#sk-container-id-2 div.sk-dashed-wrapped {border: 1px dashed gray;margin: 0 0.4em 0.5em 0.4em;box-sizing: border-box;padding-bottom: 0.4em;background-color: white;}#sk-container-id-2 div.sk-label label {font-family: monospace;font-weight: bold;display: inline-block;line-height: 1.2em;}#sk-container-id-2 div.sk-label-container {text-align: center;}#sk-container-id-2 div.sk-container {/* jupyter's `normalize.less` sets `[hidden] { display: none; }` but bootstrap.min.css set `[hidden] { display: none !important; }` so we also need the `!important` here to be able to override the default hidden behavior on the sphinx rendered scikit-learn.org. See: https://github.com/scikit-learn/scikit-learn/issues/21755 */display: inline-block !important;position: relative;}#sk-container-id-2 div.sk-text-repr-fallback {display: none;}</style><div id=\"sk-container-id-2\" class=\"sk-top-container\"><div class=\"sk-text-repr-fallback\"><pre>LinearRegression()</pre><b>In a Jupyter environment, please rerun this cell to show the HTML representation or trust the notebook. <br />On GitHub, the HTML representation is unable to render, please try loading this page with nbviewer.org.</b></div><div class=\"sk-container\" hidden><div class=\"sk-item\"><div class=\"sk-estimator sk-toggleable\"><input class=\"sk-toggleable__control sk-hidden--visually\" id=\"sk-estimator-id-2\" type=\"checkbox\" checked><label for=\"sk-estimator-id-2\" class=\"sk-toggleable__label sk-toggleable__label-arrow\">LinearRegression</label><div class=\"sk-toggleable__content\"><pre>LinearRegression()</pre></div></div></div></div></div>"
            ]
          },
          "metadata": {},
          "execution_count": 20
        }
      ]
    },
    {
      "cell_type": "code",
      "source": [
        "y_pred = model.predict(X_test)"
      ],
      "metadata": {
        "id": "peptxcMcrLwg"
      },
      "execution_count": null,
      "outputs": []
    },
    {
      "cell_type": "code",
      "source": [
        "def save_submission(predict):\n",
        "    sub = pd.DataFrame(columns=['Id', 'Times'])\n",
        "    sub['Id'] = range(len(predict))\n",
        "    sub = sub.set_index('Id')\n",
        "    sub['Times'] = list(map(int, predict))\n",
        "    with open(f'sub_{id(predict)}.csv', 'w') as f:\n",
        "        f.write(sub.to_csv())"
      ],
      "metadata": {
        "id": "ISd4JSSmrLmg"
      },
      "execution_count": null,
      "outputs": []
    },
    {
      "cell_type": "code",
      "source": [
        "save_submission(y_pred)"
      ],
      "metadata": {
        "id": "ngS5UkNZ1lRE"
      },
      "execution_count": null,
      "outputs": []
    }
  ]
}